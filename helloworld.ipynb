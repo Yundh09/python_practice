{
 "cells": [
  {
   "cell_type": "code",
   "execution_count": 1,
   "metadata": {},
   "outputs": [
    {
     "name": "stdout",
     "output_type": "stream",
     "text": [
      "P\n"
     ]
    }
   ],
   "source": [
    "words=input().upper()\n",
    "unique_word=list(set(words))\n",
    "cnt_list=[]\n",
    "for i in unique_word:\n",
    "    cnt=words.count(i)\n",
    "    cnt_list.append(cnt)\n",
    "\n",
    "if cnt_list.count(max(cnt_list))>1:\n",
    "    print('?')\n",
    "else:\n",
    "    max=cnt_list.index(max(cnt_list))\n",
    "    print(unique_word[max])"
   ]
  },
  {
   "cell_type": "code",
   "execution_count": 13,
   "metadata": {},
   "outputs": [
    {
     "name": "stdout",
     "output_type": "stream",
     "text": [
      "543\n"
     ]
    }
   ],
   "source": [
    "a,b=input().split()\n",
    "a=a[::-1]\n",
    "b=b[::-1]\n",
    "\n",
    "print(max(a,b))"
   ]
  },
  {
   "cell_type": "code",
   "execution_count": 31,
   "metadata": {},
   "outputs": [
    {
     "name": "stdout",
     "output_type": "stream",
     "text": [
      "['The', 'first', 'character', 'is', 'a', 'blank']\n",
      "6\n"
     ]
    }
   ],
   "source": [
    "\n",
    "st=input().split()\n",
    "print(st)\n",
    "\n",
    "print(len(st))"
   ]
  },
  {
   "cell_type": "code",
   "execution_count": 38,
   "metadata": {},
   "outputs": [
    {
     "ename": "TypeError",
     "evalue": "must be str or None, not int",
     "output_type": "error",
     "traceback": [
      "\u001b[1;31m---------------------------------------------------------------------------\u001b[0m",
      "\u001b[1;31mTypeError\u001b[0m                                 Traceback (most recent call last)",
      "\u001b[1;32mc:\\coding\\C++study\\helloworld.ipynb Cell 4\u001b[0m in \u001b[0;36m<cell line: 4>\u001b[1;34m()\u001b[0m\n\u001b[0;32m      <a href='vscode-notebook-cell:/c%3A/coding/C%2B%2Bstudy/helloworld.ipynb#W3sZmlsZQ%3D%3D?line=1'>2</a>\u001b[0m B\u001b[39m=\u001b[39m\u001b[39mint\u001b[39m(\u001b[39minput\u001b[39m())\n\u001b[0;32m      <a href='vscode-notebook-cell:/c%3A/coding/C%2B%2Bstudy/helloworld.ipynb#W3sZmlsZQ%3D%3D?line=2'>3</a>\u001b[0m C\u001b[39m=\u001b[39m\u001b[39mint\u001b[39m(\u001b[39minput\u001b[39m())\n\u001b[1;32m----> <a href='vscode-notebook-cell:/c%3A/coding/C%2B%2Bstudy/helloworld.ipynb#W3sZmlsZQ%3D%3D?line=3'>4</a>\u001b[0m result \u001b[39m=\u001b[39m \u001b[39mlist\u001b[39m(\u001b[39mstr\u001b[39;49m(A\u001b[39m*\u001b[39;49mB\u001b[39m*\u001b[39;49mC))\n\u001b[0;32m      <a href='vscode-notebook-cell:/c%3A/coding/C%2B%2Bstudy/helloworld.ipynb#W3sZmlsZQ%3D%3D?line=4'>5</a>\u001b[0m \u001b[39mfor\u001b[39;00m i \u001b[39min\u001b[39;00m \u001b[39mrange\u001b[39m(\u001b[39m10\u001b[39m):\n\u001b[0;32m      <a href='vscode-notebook-cell:/c%3A/coding/C%2B%2Bstudy/helloworld.ipynb#W3sZmlsZQ%3D%3D?line=5'>6</a>\u001b[0m     \u001b[39mprint\u001b[39m(result\u001b[39m.\u001b[39mcount(\u001b[39mstr\u001b[39m(i)))\n",
      "\u001b[1;31mTypeError\u001b[0m: must be str or None, not int"
     ]
    }
   ],
   "source": []
  },
  {
   "cell_type": "code",
   "execution_count": 39,
   "metadata": {},
   "outputs": [
    {
     "ename": "TypeError",
     "evalue": "must be str or None, not int",
     "output_type": "error",
     "traceback": [
      "\u001b[1;31m---------------------------------------------------------------------------\u001b[0m",
      "\u001b[1;31mTypeError\u001b[0m                                 Traceback (most recent call last)",
      "\u001b[1;32mc:\\coding\\C++study\\helloworld.ipynb Cell 5\u001b[0m in \u001b[0;36m<cell line: 4>\u001b[1;34m()\u001b[0m\n\u001b[0;32m      <a href='vscode-notebook-cell:/c%3A/coding/C%2B%2Bstudy/helloworld.ipynb#W4sZmlsZQ%3D%3D?line=1'>2</a>\u001b[0m B\u001b[39m=\u001b[39m\u001b[39mint\u001b[39m(\u001b[39minput\u001b[39m())\n\u001b[0;32m      <a href='vscode-notebook-cell:/c%3A/coding/C%2B%2Bstudy/helloworld.ipynb#W4sZmlsZQ%3D%3D?line=2'>3</a>\u001b[0m C\u001b[39m=\u001b[39m\u001b[39mint\u001b[39m(\u001b[39minput\u001b[39m())\n\u001b[1;32m----> <a href='vscode-notebook-cell:/c%3A/coding/C%2B%2Bstudy/helloworld.ipynb#W4sZmlsZQ%3D%3D?line=3'>4</a>\u001b[0m result \u001b[39m=\u001b[39m \u001b[39mlist\u001b[39m(\u001b[39mstr\u001b[39;49m(A\u001b[39m*\u001b[39;49mB\u001b[39m*\u001b[39;49mC))\n\u001b[0;32m      <a href='vscode-notebook-cell:/c%3A/coding/C%2B%2Bstudy/helloworld.ipynb#W4sZmlsZQ%3D%3D?line=4'>5</a>\u001b[0m \u001b[39mfor\u001b[39;00m i \u001b[39min\u001b[39;00m \u001b[39mrange\u001b[39m(\u001b[39m10\u001b[39m):\n\u001b[0;32m      <a href='vscode-notebook-cell:/c%3A/coding/C%2B%2Bstudy/helloworld.ipynb#W4sZmlsZQ%3D%3D?line=5'>6</a>\u001b[0m     \u001b[39mprint\u001b[39m(result\u001b[39m.\u001b[39mcount(\u001b[39mstr\u001b[39m(i)))\n",
      "\u001b[1;31mTypeError\u001b[0m: must be str or None, not int"
     ]
    }
   ],
   "source": [
    "A=int(input())\n",
    "B=int(input())\n",
    "C=int(input())\n",
    "result = list(str(A*B*C))\n",
    "for i in range(10):\n",
    "    print(result.count(str(i)))"
   ]
  },
  {
   "cell_type": "code",
   "execution_count": 16,
   "metadata": {},
   "outputs": [
    {
     "name": "stdout",
     "output_type": "stream",
     "text": [
      "abc"
     ]
    }
   ],
   "source": [
    "n=int(input())\n",
    "i=0\n",
    "j=0\n",
    "while (i<n):\n",
    "    b=input().split()\n",
    "    c=int(b[0])\n",
    "    while (j<len(b[1])):\n",
    "        print(b[1][j]*c, end='')\n",
    "        j=j+1\n",
    "    i=i+1\n"
   ]
  },
  {
   "cell_type": "code",
   "execution_count": 13,
   "metadata": {},
   "outputs": [
    {
     "name": "stdout",
     "output_type": "stream",
     "text": [
      "<class 'int'>\n",
      "<class 'int'>\n",
      "<class 'int'>\n",
      "2\n"
     ]
    }
   ],
   "source": [
    "n=int(input())\n",
    "i=0\n",
    "j=0\n",
    "while (i<n):\n",
    "    b=input().split()\n",
    "    c=int(b[0])\n",
    "    while (j<len(b[1])):\n",
    "        print(type(c))\n",
    "        #print(b[1][j]*b[0], end='')\n",
    "        j=j+1\n",
    "    i=i+1\n",
    "\n",
    "print(b[0])"
   ]
  },
  {
   "cell_type": "code",
   "execution_count": 10,
   "metadata": {},
   "outputs": [
    {
     "data": {
      "text/plain": [
       "'aaa'"
      ]
     },
     "execution_count": 10,
     "metadata": {},
     "output_type": "execute_result"
    }
   ],
   "source": [
    "'a'*3"
   ]
  },
  {
   "cell_type": "code",
   "execution_count": 18,
   "metadata": {},
   "outputs": [
    {
     "name": "stdout",
     "output_type": "stream",
     "text": [
      "ascending\n"
     ]
    }
   ],
   "source": [
    "a=input()\n",
    "if (a=='1 2 3 4 5 6 7 8'):\n",
    "    print('ascending')\n",
    "elif (a=='8 7 6 5 4 3 2 1'):\n",
    "    print('descending')\n",
    "else:\n",
    "    print('mixed')"
   ]
  },
  {
   "cell_type": "code",
   "execution_count": 1,
   "metadata": {},
   "outputs": [
    {
     "name": "stdout",
     "output_type": "stream",
     "text": [
      "10\n"
     ]
    }
   ],
   "source": [
    "i=0\n",
    "c=[]\n",
    "while (i<10):\n",
    "    a=int(input())\n",
    "    b=a%42\n",
    "    c.append(b)\n",
    "    i=i+1\n",
    "d=set(c)\n",
    "print(len(d))"
   ]
  },
  {
   "cell_type": "code",
   "execution_count": 2,
   "metadata": {},
   "outputs": [
    {
     "name": "stdout",
     "output_type": "stream",
     "text": [
      "75.0\n"
     ]
    }
   ],
   "source": [
    "n=int(input())\n",
    "score=list(map(int, input().split()))\n",
    "max1=max(score)\n",
    "c=[]\n",
    "for i in score:\n",
    "    d=i/max1*100\n",
    "    c.append(d)\n",
    "average=sum(c)/len(score)\n",
    "print(average)\n"
   ]
  },
  {
   "cell_type": "code",
   "execution_count": 4,
   "metadata": {},
   "outputs": [
    {
     "name": "stdout",
     "output_type": "stream",
     "text": [
      "1\n"
     ]
    }
   ],
   "source": [
    "location=list(map(int, input().split()))\n",
    "a=location[2]-location[0]\n",
    "b=location[0]\n",
    "c=location[3]-location[1]\n",
    "d=location[1]\n",
    "print(min(a,b,c,d))"
   ]
  },
  {
   "cell_type": "code",
   "execution_count": 8,
   "metadata": {},
   "outputs": [
    {
     "name": "stdout",
     "output_type": "stream",
     "text": [
      "right\n",
      "wrong\n"
     ]
    }
   ],
   "source": [
    "\n",
    "while True:\n",
    "\n",
    "    a=list(map(int, input().split()))\n",
    "    b=max(a)\n",
    "    a.remove(b)\n",
    "    if b==0:\n",
    "        break\n",
    "    if (b**2==a[0]**2+a[1]**2):\n",
    "        print('right')\n",
    "    elif b==0:\n",
    "        pass\n",
    "    elif(b**2!=a[0]**2+a[1]**2):\n",
    "        print('wrong')\n",
    "    "
   ]
  },
  {
   "cell_type": "code",
   "execution_count": 12,
   "metadata": {},
   "outputs": [
    {
     "name": "stdout",
     "output_type": "stream",
     "text": [
      "['1', '2', '3']\n"
     ]
    }
   ],
   "source": [
    "a=[]\n",
    "for i in str(123):\n",
    "    a.append(i)\n",
    "print(a)"
   ]
  },
  {
   "cell_type": "code",
   "execution_count": 16,
   "metadata": {},
   "outputs": [
    {
     "name": "stdout",
     "output_type": "stream",
     "text": [
      "601\n"
     ]
    }
   ],
   "source": [
    "a=int(input())\n",
    "for i in range(a):\n",
    "\n",
    "    h,w,n=map(int, input().split())\n",
    "    if n%h==0:\n",
    "        room=n//h\n",
    "        level=h*100\n",
    "    else:\n",
    "        room=n//h+1\n",
    "        level=n%h*100\n",
    "    \n",
    "    print(room+level)"
   ]
  },
  {
   "cell_type": "code",
   "execution_count": 21,
   "metadata": {},
   "outputs": [
    {
     "name": "stdout",
     "output_type": "stream",
     "text": [
      "21\n"
     ]
    }
   ],
   "source": [
    "n,m=(map(int,input().split()))\n",
    "arr=list(map(int,input().split()))\n",
    "#result=[]\n",
    "for i in range(n):\n",
    "    for j in range(i+1,n):\n",
    "        for k in range(j+1,n):\n",
    "            \n",
    "            sum=arr[i]+arr[j]+arr[k]\n",
    "  #          result.append(sum)\n",
    "            if sum>m:\n",
    "                continue\n",
    "            else:\n",
    "                result=max(0,sum)\n",
    "   #             aa=max(result)\n",
    "print(result)"
   ]
  },
  {
   "cell_type": "code",
   "execution_count": 6,
   "metadata": {},
   "outputs": [],
   "source": [
    "while True:\n",
    "    a=input()\n",
    "    if a=='0':\n",
    "        break    \n",
    "    if a==a[::-1]:\n",
    "        print('yes')\n",
    "    else:\n",
    "        print('no')\n",
    "    \n"
   ]
  },
  {
   "cell_type": "code",
   "execution_count": 1,
   "metadata": {},
   "outputs": [
    {
     "name": "stdout",
     "output_type": "stream",
     "text": [
      "0\n",
      "1\n",
      "2\n",
      "3\n",
      "4\n"
     ]
    }
   ],
   "source": [
    "for i in range(5):\n",
    "    print(i)"
   ]
  },
  {
   "cell_type": "code",
   "execution_count": 16,
   "metadata": {},
   "outputs": [
    {
     "name": "stdout",
     "output_type": "stream",
     "text": [
      "6\n",
      "[]\n"
     ]
    }
   ],
   "source": [
    "n,m=map(int,input().split())\n",
    "arr=[]\n",
    "arr2=[]\n",
    "min1=min(m,n)\n",
    "for i in range(1,min1+1):\n",
    "    if m%i==0 and n%i==0:\n",
    "        c=i\n",
    "        arr.append(c)\n",
    "\n",
    "print(max(arr))\n",
    "max1=max(m,n)\n",
    "for j in range(max1,m*n+1):\n",
    "    if i%n==0 and i%m==0:\n",
    "        d=i\n",
    "        arr2.append(d)\n",
    "print(arr2)\n",
    "#print(min(arr2))\n",
    "\n"
   ]
  },
  {
   "cell_type": "code",
   "execution_count": 5,
   "metadata": {},
   "outputs": [
    {
     "ename": "TypeError",
     "evalue": "'int' object is not iterable",
     "output_type": "error",
     "traceback": [
      "\u001b[1;31m---------------------------------------------------------------------------\u001b[0m",
      "\u001b[1;31mTypeError\u001b[0m                                 Traceback (most recent call last)",
      "\u001b[1;32mc:\\coding\\C++study\\helloworld.ipynb Cell 20\u001b[0m in \u001b[0;36m<cell line: 2>\u001b[1;34m()\u001b[0m\n\u001b[0;32m      <a href='vscode-notebook-cell:/c%3A/coding/C%2B%2Bstudy/helloworld.ipynb#X25sZmlsZQ%3D%3D?line=0'>1</a>\u001b[0m t\u001b[39m=\u001b[39m\u001b[39mint\u001b[39m(\u001b[39minput\u001b[39m())\n\u001b[1;32m----> <a href='vscode-notebook-cell:/c%3A/coding/C%2B%2Bstudy/helloworld.ipynb#X25sZmlsZQ%3D%3D?line=1'>2</a>\u001b[0m \u001b[39mfor\u001b[39;00m i \u001b[39min\u001b[39;00m (t):\n\u001b[0;32m      <a href='vscode-notebook-cell:/c%3A/coding/C%2B%2Bstudy/helloworld.ipynb#X25sZmlsZQ%3D%3D?line=2'>3</a>\u001b[0m     k\u001b[39m=\u001b[39m\u001b[39mint\u001b[39m(\u001b[39minput\u001b[39m())\n\u001b[0;32m      <a href='vscode-notebook-cell:/c%3A/coding/C%2B%2Bstudy/helloworld.ipynb#X25sZmlsZQ%3D%3D?line=3'>4</a>\u001b[0m     n\u001b[39m=\u001b[39m\u001b[39mint\u001b[39m(\u001b[39minput\u001b[39m())\n",
      "\u001b[1;31mTypeError\u001b[0m: 'int' object is not iterable"
     ]
    }
   ],
   "source": [
    "t=int(input())\n",
    "for i in (t):\n",
    "    k=int(input())\n",
    "    n=int(input())\n",
    "\n",
    "    people=[i for i in range(1,n+1)]\n",
    "    for x in range(k):\n",
    "        for y in range(1,n):\n",
    "            people[y]+=people[y-1]\n",
    "            print(people)\n",
    "    print(people[-1])"
   ]
  },
  {
   "cell_type": "code",
   "execution_count": 1,
   "metadata": {},
   "outputs": [],
   "source": [
    "a=[i for i in range(1,3)]"
   ]
  },
  {
   "cell_type": "code",
   "execution_count": 12,
   "metadata": {},
   "outputs": [
    {
     "data": {
      "text/plain": [
       "5"
      ]
     },
     "execution_count": 12,
     "metadata": {},
     "output_type": "execute_result"
    }
   ],
   "source": [
    "a"
   ]
  },
  {
   "cell_type": "code",
   "execution_count": 15,
   "metadata": {},
   "outputs": [
    {
     "name": "stdout",
     "output_type": "stream",
     "text": [
      "4\n"
     ]
    }
   ],
   "source": [
    "a,b,v=map(int,input().split())\n",
    "for i in range(1,v+1):\n",
    "    if (i*(a-b)+a>=v):\n",
    "        i+=1\n",
    "        break\n",
    "print(i)"
   ]
  },
  {
   "cell_type": "code",
   "execution_count": 23,
   "metadata": {},
   "outputs": [
    {
     "name": "stdout",
     "output_type": "stream",
     "text": [
      "1\n",
      "2\n",
      "3\n",
      "4\n"
     ]
    }
   ],
   "source": [
    "\n",
    "n=int(input())\n",
    "arr=[]\n",
    "for i in range(n):\n",
    "    a=int(input())\n",
    "    arr.append(a)\n",
    "arr.sort()\n",
    "for j in arr:\n",
    "    print(j)\n",
    "\n"
   ]
  },
  {
   "cell_type": "code",
   "execution_count": 22,
   "metadata": {},
   "outputs": [
    {
     "ename": "TypeError",
     "evalue": "'NoneType' object is not callable",
     "output_type": "error",
     "traceback": [
      "\u001b[1;31m---------------------------------------------------------------------------\u001b[0m",
      "\u001b[1;31mTypeError\u001b[0m                                 Traceback (most recent call last)",
      "\u001b[1;32mc:\\coding\\C++study\\helloworld.ipynb Cell 25\u001b[0m in \u001b[0;36m<cell line: 2>\u001b[1;34m()\u001b[0m\n\u001b[0;32m      <a href='vscode-notebook-cell:/c%3A/coding/C%2B%2Bstudy/helloworld.ipynb#X33sZmlsZQ%3D%3D?line=0'>1</a>\u001b[0m a\u001b[39m=\u001b[39m[\u001b[39m9\u001b[39m, \u001b[39m3\u001b[39m, \u001b[39m7\u001b[39m, \u001b[39m4\u001b[39m, \u001b[39m6\u001b[39m]\n\u001b[1;32m----> <a href='vscode-notebook-cell:/c%3A/coding/C%2B%2Bstudy/helloworld.ipynb#X33sZmlsZQ%3D%3D?line=1'>2</a>\u001b[0m bb\u001b[39m=\u001b[39m\u001b[39msorted\u001b[39;49m(a)\n\u001b[0;32m      <a href='vscode-notebook-cell:/c%3A/coding/C%2B%2Bstudy/helloworld.ipynb#X33sZmlsZQ%3D%3D?line=2'>3</a>\u001b[0m \u001b[39mprint\u001b[39m(bb)\n",
      "\u001b[1;31mTypeError\u001b[0m: 'NoneType' object is not callable"
     ]
    }
   ],
   "source": [
    "a=[9, 3, 7, 4, 6]\n",
    "bb=sorted(a)\n",
    "print(bb)"
   ]
  },
  {
   "cell_type": "code",
   "execution_count": 24,
   "metadata": {},
   "outputs": [
    {
     "name": "stdout",
     "output_type": "stream",
     "text": [
      "[0, 0, 0, 0, 0, 0, 0, 0, 0, 0]\n"
     ]
    }
   ],
   "source": [
    "arr=[0]*10\n",
    "print(arr)"
   ]
  },
  {
   "cell_type": "code",
   "execution_count": 35,
   "metadata": {},
   "outputs": [
    {
     "name": "stdout",
     "output_type": "stream",
     "text": [
      "15\n"
     ]
    }
   ],
   "source": [
    "m,n=map(int,input().split())\n",
    "answer=m\n",
    "dd=1\n",
    "for i in range(1,n):\n",
    "    answer=answer*(m-i)\n",
    "for j in range(1,n+1):\n",
    "    dd=dd*j\n",
    "answer1=answer//dd\n",
    "print(answer1)"
   ]
  },
  {
   "cell_type": "code",
   "execution_count": 36,
   "metadata": {},
   "outputs": [
    {
     "name": "stdout",
     "output_type": "stream",
     "text": [
      "0\n",
      "2\n",
      "-1\n"
     ]
    }
   ],
   "source": [
    "a=int(input())\n",
    "b=int(input())\n",
    "print(a+b)\n",
    "print(a-b)\n",
    "print(a*b)"
   ]
  },
  {
   "cell_type": "code",
   "execution_count": null,
   "metadata": {},
   "outputs": [],
   "source": [
    "n=int(input())\n",
    "for i in range(n):\n",
    "    a=input()\n",
    "    "
   ]
  },
  {
   "cell_type": "code",
   "execution_count": null,
   "metadata": {},
   "outputs": [],
   "source": [
    "n=int(input())\n",
    "print(n*1000+666)"
   ]
  },
  {
   "cell_type": "code",
   "execution_count": 1,
   "metadata": {},
   "outputs": [
    {
     "name": "stdout",
     "output_type": "stream",
     "text": [
      "4\n"
     ]
    }
   ],
   "source": [
    "n=int(input())\n",
    "a=map(int, input().split())\n",
    "ss=0\n",
    "\n",
    "for i in a:\n",
    "    error=0\n",
    "    if i>1:\n",
    "        for j in range(2,i):\n",
    "            if i % j==0:\n",
    "                error+=1\n",
    "        if error==0:\n",
    "            ss+=1\n",
    "print(ss)\n",
    "\n"
   ]
  },
  {
   "cell_type": "code",
   "execution_count": 1,
   "metadata": {},
   "outputs": [],
   "source": [
    "import sys\n",
    "n=int(input())\n",
    "l=[]\n",
    "for i in range(n):\n",
    "    \n",
    "    l.append(int(sys.stdin.readline()))\n",
    "\n",
    "for j in sorted(l):\n",
    "    print(j)"
   ]
  },
  {
   "cell_type": "code",
   "execution_count": 9,
   "metadata": {},
   "outputs": [
    {
     "data": {
      "text/plain": [
       "2"
      ]
     },
     "execution_count": 9,
     "metadata": {},
     "output_type": "execute_result"
    }
   ],
   "source": [
    "a,b=map(int, input().split())\n",
    "a"
   ]
  },
  {
   "cell_type": "code",
   "execution_count": 6,
   "metadata": {},
   "outputs": [
    {
     "name": "stdout",
     "output_type": "stream",
     "text": [
      "[2, 2, 3]\n"
     ]
    }
   ],
   "source": [
    "a=list(map(int, input().split()))\n",
    "print(a)"
   ]
  },
  {
   "cell_type": "code",
   "execution_count": 28,
   "metadata": {},
   "outputs": [
    {
     "name": "stdout",
     "output_type": "stream",
     "text": [
      "1200\n"
     ]
    }
   ],
   "source": [
    "a,b,c=map(int,input().split())\n",
    "d=list(set([a,b,c]))\n",
    "e=[a,b,c]\n",
    "e.sort()\n",
    "if len(d)==1:\n",
    "    print(10000+a*1000)\n",
    "elif len(d)==2:\n",
    "    print(1000+e[1]*100)\n",
    "else:\n",
    "    print(max(d)*100)"
   ]
  },
  {
   "cell_type": "code",
   "execution_count": 2,
   "metadata": {},
   "outputs": [
    {
     "name": "stdout",
     "output_type": "stream",
     "text": [
      "set()\n"
     ]
    }
   ],
   "source": [
    "a=list(map(int,input().split()))\n",
    "a=set()\n",
    "print(a)"
   ]
  },
  {
   "cell_type": "code",
   "execution_count": 6,
   "metadata": {},
   "outputs": [
    {
     "name": "stdout",
     "output_type": "stream",
     "text": [
      "[2, 3]\n"
     ]
    }
   ],
   "source": [
    "a,b,c=map(int,input().split())\n",
    "d=list(set([a,b,c]))\n",
    "print(d)"
   ]
  },
  {
   "cell_type": "code",
   "execution_count": 27,
   "metadata": {},
   "outputs": [
    {
     "name": "stdout",
     "output_type": "stream",
     "text": [
      "[1, 2, 2]\n"
     ]
    }
   ],
   "source": [
    "a,b,c=map(int,input().split())\n",
    "d=list(set([a,b,c]))\n",
    "e=[a,b,c]\n",
    "e.sort()\n",
    "print(e)"
   ]
  },
  {
   "cell_type": "code",
   "execution_count": 1,
   "metadata": {},
   "outputs": [],
   "source": [
    "import sys\n",
    "\n",
    "n = int(sys.stdin.readline())\n",
    "lst = []\n",
    "\n",
    "for i in range(n):\n",
    "    lst.append(sys.stdin.readline().strip())\t# input 대신에 sys.stdin.readline()\n",
    "set_lst = set(lst)\n",
    "lst = list(set_lst)\n",
    "lst.sort()\n",
    "lst.sort(key = len)\n",
    "\n",
    "for i in lst:\n",
    "    print(i)"
   ]
  },
  {
   "cell_type": "code",
   "execution_count": null,
   "metadata": {},
   "outputs": [],
   "source": []
  },
  {
   "cell_type": "code",
   "execution_count": null,
   "metadata": {},
   "outputs": [],
   "source": [
    "import sys"
   ]
  },
  {
   "cell_type": "code",
   "execution_count": 3,
   "metadata": {},
   "outputs": [
    {
     "name": "stdout",
     "output_type": "stream",
     "text": [
      "9 hvj\n",
      "22 gchchc\n",
      "55 hjkhv\n"
     ]
    }
   ],
   "source": [
    "n=int(input())\n",
    "lst=[]\n",
    "for i in range(n):\n",
    "    age,name=map(str,input().split())\n",
    "    age=int(age)\n",
    "    lst.append((age,name))\n",
    "lst.sort(key=lambda x : x[0])\n",
    "for i in lst:\n",
    "    print(i[0], i[1])\n",
    "\n"
   ]
  },
  {
   "cell_type": "code",
   "execution_count": 4,
   "metadata": {},
   "outputs": [
    {
     "name": "stdout",
     "output_type": "stream",
     "text": [
      "1 -1\n",
      "1 1\n",
      "2 2\n",
      "3 4\n"
     ]
    }
   ],
   "source": [
    "n=int(input())\n",
    "lst=[]\n",
    "for i in range(n):\n",
    "    x,y=map(int,input().split())\n",
    "    lst.append((x,y))\n",
    "lst.sort(key=lambda t : (t[0],t[1]))\n",
    "for i in lst:\n",
    "    print(i[0],i[1])"
   ]
  },
  {
   "cell_type": "code",
   "execution_count": 1,
   "metadata": {},
   "outputs": [
    {
     "ename": "ValueError",
     "evalue": "invalid literal for int() with base 10: ''",
     "output_type": "error",
     "traceback": [
      "\u001b[1;31m---------------------------------------------------------------------------\u001b[0m",
      "\u001b[1;31mValueError\u001b[0m                                Traceback (most recent call last)",
      "\u001b[1;32mc:\\coding\\C++study\\helloworld.ipynb Cell 44\u001b[0m in \u001b[0;36m<cell line: 1>\u001b[1;34m()\u001b[0m\n\u001b[1;32m----> <a href='vscode-notebook-cell:/c%3A/coding/C%2B%2Bstudy/helloworld.ipynb#X61sZmlsZQ%3D%3D?line=0'>1</a>\u001b[0m n\u001b[39m=\u001b[39m\u001b[39mint\u001b[39;49m(\u001b[39minput\u001b[39;49m())\n\u001b[0;32m      <a href='vscode-notebook-cell:/c%3A/coding/C%2B%2Bstudy/helloworld.ipynb#X61sZmlsZQ%3D%3D?line=1'>2</a>\u001b[0m lst\u001b[39m=\u001b[39m[]\n\u001b[0;32m      <a href='vscode-notebook-cell:/c%3A/coding/C%2B%2Bstudy/helloworld.ipynb#X61sZmlsZQ%3D%3D?line=2'>3</a>\u001b[0m \u001b[39mfor\u001b[39;00m i \u001b[39min\u001b[39;00m \u001b[39mrange\u001b[39m(n):\n",
      "\u001b[1;31mValueError\u001b[0m: invalid literal for int() with base 10: ''"
     ]
    }
   ],
   "source": [
    "n=int(input())\n",
    "lst=[]\n",
    "for i in range(n):\n",
    "    몸무게,키=map(int, input().split())\n",
    "    lst.append((몸무게,키))\n",
    "for c in lst:\n",
    "    rank=1\n",
    "    for j in lst:\n",
    "        if c[0]<j[0] and c[1]<j[1]:\n",
    "            rank+=1\n",
    "    print(rank,end='')\n",
    "\n"
   ]
  },
  {
   "cell_type": "code",
   "execution_count": 2,
   "metadata": {},
   "outputs": [
    {
     "name": "stdout",
     "output_type": "stream",
     "text": [
      "333\n"
     ]
    }
   ],
   "source": [
    "print(33,end='')\n",
    "print(3)"
   ]
  },
  {
   "cell_type": "code",
   "execution_count": 3,
   "metadata": {},
   "outputs": [
    {
     "name": "stdout",
     "output_type": "stream",
     "text": [
      "33 33\n"
     ]
    }
   ],
   "source": [
    "print(33, end=' ')\n",
    "print(33)"
   ]
  },
  {
   "cell_type": "code",
   "execution_count": null,
   "metadata": {},
   "outputs": [],
   "source": [
    "from collections import deque\n",
    "queue=deque()\n",
    "result=[]\n",
    "m,n=map(int,input().split())\n",
    "for i in range(1,m+1):\n",
    "    queue.append(i)\n",
    "\n",
    "while queue:\n",
    "    for i in range(n-1):\n",
    "        queue.append(queue.popleft())\n",
    "    result.append(queue.popleft())\n",
    "print(\"<\",end='')\n",
    "print(', '.join(map(str,result)),end='')\n",
    "print(\">\")\n",
    "\n"
   ]
  },
  {
   "cell_type": "code",
   "execution_count": 22,
   "metadata": {},
   "outputs": [
    {
     "ename": "IndexError",
     "evalue": "list index out of range",
     "output_type": "error",
     "traceback": [
      "\u001b[1;31m---------------------------------------------------------------------------\u001b[0m",
      "\u001b[1;31mIndexError\u001b[0m                                Traceback (most recent call last)",
      "\u001b[1;32mc:\\coding\\C++study\\helloworld.ipynb Cell 48\u001b[0m in \u001b[0;36m<cell line: 2>\u001b[1;34m()\u001b[0m\n\u001b[0;32m      <a href='vscode-notebook-cell:/c%3A/coding/C%2B%2Bstudy/helloworld.ipynb#X65sZmlsZQ%3D%3D?line=6'>7</a>\u001b[0m d\u001b[39m=\u001b[39m\u001b[39msum\u001b[39m(num)\u001b[39m/\u001b[39ma\n\u001b[0;32m      <a href='vscode-notebook-cell:/c%3A/coding/C%2B%2Bstudy/helloworld.ipynb#X65sZmlsZQ%3D%3D?line=7'>8</a>\u001b[0m \u001b[39mfor\u001b[39;00m i \u001b[39min\u001b[39;00m \u001b[39mrange\u001b[39m(nn):\n\u001b[1;32m----> <a href='vscode-notebook-cell:/c%3A/coding/C%2B%2Bstudy/helloworld.ipynb#X65sZmlsZQ%3D%3D?line=8'>9</a>\u001b[0m     \u001b[39mif\u001b[39;00m num[i]\u001b[39m<\u001b[39md:\n\u001b[0;32m     <a href='vscode-notebook-cell:/c%3A/coding/C%2B%2Bstudy/helloworld.ipynb#X65sZmlsZQ%3D%3D?line=9'>10</a>\u001b[0m         \u001b[39mdel\u001b[39;00m num[i]\n\u001b[0;32m     <a href='vscode-notebook-cell:/c%3A/coding/C%2B%2Bstudy/helloworld.ipynb#X65sZmlsZQ%3D%3D?line=10'>11</a>\u001b[0m     i\u001b[39m=\u001b[39mi\u001b[39m+\u001b[39m\u001b[39m1\u001b[39m\n",
      "\u001b[1;31mIndexError\u001b[0m: list index out of range"
     ]
    }
   ],
   "source": [
    "n=int(input())\n",
    "for i in range(n):\n",
    "    num=list(map(int,input().split()))\n",
    "    a=num[0]\n",
    "    del num[0]\n",
    "    nn=len(num)\n",
    "    d=sum(num)/a\n",
    "    for i in range(nn):\n",
    "        if num[i]<d:\n",
    "            del num[i]\n",
    "        i=i+1\n",
    "    c=len(num)\n",
    "    print(d)\n",
    "    print(num)\n",
    "    #print('{:.3f}%'.format(c/a))\n"
   ]
  },
  {
   "cell_type": "code",
   "execution_count": 5,
   "metadata": {},
   "outputs": [
    {
     "data": {
      "text/plain": [
       "70.0"
      ]
     },
     "execution_count": 5,
     "metadata": {},
     "output_type": "execute_result"
    }
   ],
   "source": [
    "(50+50+70+80+100)/5"
   ]
  },
  {
   "cell_type": "code",
   "execution_count": 8,
   "metadata": {},
   "outputs": [
    {
     "data": {
      "text/plain": [
       "5"
      ]
     },
     "execution_count": 8,
     "metadata": {},
     "output_type": "execute_result"
    }
   ],
   "source": [
    "dd=[1,2,3,4,5,4]\n",
    "del dd[0]\n",
    "len(dd)"
   ]
  },
  {
   "cell_type": "code",
   "execution_count": 27,
   "metadata": {},
   "outputs": [
    {
     "name": "stdout",
     "output_type": "stream",
     "text": [
      "40.000%\n"
     ]
    }
   ],
   "source": [
    "n=int(input())\n",
    "for i in range(n):\n",
    "    num=list(map(int,input().split()))\n",
    "    avg=sum(num[1:])/num[0]\n",
    "    cnt=0\n",
    "for score in num[1:]:\n",
    "    if score>avg:\n",
    "        cnt+=1\n",
    "rate=cnt/num[0]*100\n",
    "print(f'{rate:.3f}%')\n",
    "    "
   ]
  },
  {
   "cell_type": "code",
   "execution_count": 20,
   "metadata": {},
   "outputs": [
    {
     "name": "stdout",
     "output_type": "stream",
     "text": [
      "0\n",
      "1\n",
      "2\n"
     ]
    }
   ],
   "source": [
    "for i in range(3):\n",
    "    print(i)"
   ]
  },
  {
   "cell_type": "code",
   "execution_count": null,
   "metadata": {},
   "outputs": [],
   "source": [
    "n=int(input())\n",
    "lst=set(map(int,input().split()))\n",
    "m=int(input())\n",
    "lst2=list(map(int,input().split()))\n",
    "for i in lst2:\n",
    "    if i in lst:\n",
    "        print(1)\n",
    "    else:\n",
    "        print(0)\n"
   ]
  },
  {
   "cell_type": "code",
   "execution_count": 1,
   "metadata": {},
   "outputs": [],
   "source": [
    "import sys\n",
    "n=int(input())\n",
    "lst=[]\n",
    "for i in range(n):\n",
    "    lst.append(list(map(int, sys.stdin.readline().split())))\n",
    "lst.sort(key=lambda x : (x[1],x[0]))\n",
    "for i in range(n):\n",
    "    print(lst[i][0],lst[i][1])"
   ]
  },
  {
   "cell_type": "code",
   "execution_count": 2,
   "metadata": {},
   "outputs": [
    {
     "name": "stdout",
     "output_type": "stream",
     "text": [
      "[[2, 4], [4, 2]]\n"
     ]
    }
   ],
   "source": [
    "n=int(input())\n",
    "lst=[]\n",
    "for i in range(n):\n",
    "    lst.append(list(map(int, input().split())))\n",
    "print(lst)"
   ]
  },
  {
   "cell_type": "code",
   "execution_count": 5,
   "metadata": {},
   "outputs": [
    {
     "name": "stdout",
     "output_type": "stream",
     "text": [
      "4\n"
     ]
    }
   ],
   "source": [
    "from collections import deque\n",
    "n=int(input())\n",
    "deque=deque([i for i in range(1,n+1)])\n",
    "while True:\n",
    "    deque.popleft()\n",
    "    move=deque.popleft()\n",
    "    deque.append(move)\n",
    "    if len(deque)==1:\n",
    "        print(deque[0])\n",
    "        break"
   ]
  },
  {
   "cell_type": "code",
   "execution_count": 1,
   "metadata": {},
   "outputs": [
    {
     "name": "stdout",
     "output_type": "stream",
     "text": [
      "YES\n",
      "NO\n",
      "NO\n",
      "NO\n"
     ]
    }
   ],
   "source": [
    "n=int(input())\n",
    "for i in range(n):\n",
    "    x=list(input())\n",
    "    sum=0\n",
    "    for i in x:\n",
    "        if i == '(':\n",
    "            sum+=1\n",
    "        elif i ==')':\n",
    "            sum-=1\n",
    "        if sum<0:\n",
    "            print(\"NO\")\n",
    "            break\n",
    "    if sum == 0:\n",
    "         print('YES')\n",
    "    elif sum >0:\n",
    "         print(\"NO\")"
   ]
  },
  {
   "cell_type": "code",
   "execution_count": 6,
   "metadata": {},
   "outputs": [
    {
     "name": "stdout",
     "output_type": "stream",
     "text": [
      "0\n",
      "33\n"
     ]
    }
   ],
   "source": [
    "n=int(input())\n",
    "stack=[]\n",
    "for i in range(n):\n",
    "    c=input().split()\n",
    "    a=c[0]\n",
    "    \n",
    "\n",
    "    if a =='pop':\n",
    "        if len(stack)==0:\n",
    "            print(-1)\n",
    "        else:\n",
    "            print(stack.pop())\n",
    "    elif a=='size':\n",
    "        print(len(stack))\n",
    "    elif a=='empty':\n",
    "        if len(stack)==0:\n",
    "            print(1)\n",
    "        else:\n",
    "            print(0)\n",
    "    elif a=='top':\n",
    "        if len(stack)==0:\n",
    "            print(-1)\n",
    "        else:\n",
    "            print(stack[0])\n",
    "    elif a=='push':\n",
    "        stack.append(c[1])"
   ]
  },
  {
   "cell_type": "code",
   "execution_count": 3,
   "metadata": {},
   "outputs": [
    {
     "name": "stdout",
     "output_type": "stream",
     "text": [
      "['ldf', '33']\n",
      "<class 'list'>\n",
      "33\n"
     ]
    }
   ],
   "source": [
    "dd=input().split()\n",
    "print(dd)\n",
    "print(type(dd))\n",
    "print(dd[1])"
   ]
  },
  {
   "cell_type": "code",
   "execution_count": 5,
   "metadata": {},
   "outputs": [
    {
     "name": "stdout",
     "output_type": "stream",
     "text": [
      "4\n",
      "1\n"
     ]
    }
   ],
   "source": [
    "sys.stdin.readline=input\n",
    "n = int(sys.stdin.readline())\n",
    "\n",
    "stack=[]\n",
    "for i in range(n):\n",
    "    command = sys.stdin.readline().split()\n",
    "\n",
    "    if command[0]=='push':\n",
    "        stack.append(command[1])\n",
    "    elif command[0]=='pop':\n",
    "        if len(stack)==0:\n",
    "            print(-1)\n",
    "        else:\n",
    "            print(stack.pop())\n",
    "    elif command[0] == 'size':\n",
    "        print(len(stack))\n",
    "    elif command[0] == 'empty':\n",
    "        if len(stack)==0:\n",
    "            print(1)\n",
    "        else:\n",
    "            print(0)\n",
    "    elif command[0] == 'top':\n",
    "        if len(stack)==0:\n",
    "            print(-1)\n",
    "        else:\n",
    "            print(stack[-1])"
   ]
  },
  {
   "cell_type": "code",
   "execution_count": 8,
   "metadata": {},
   "outputs": [
    {
     "name": "stdout",
     "output_type": "stream",
     "text": [
      "5\n",
      "[1, 2, 3, 4]\n"
     ]
    }
   ],
   "source": [
    "lst=[1,2,3,4,5]\n",
    "print(lst.pop())\n",
    "print(lst)"
   ]
  },
  {
   "cell_type": "code",
   "execution_count": 11,
   "metadata": {},
   "outputs": [
    {
     "name": "stdout",
     "output_type": "stream",
     "text": [
      "33\n",
      "0\n"
     ]
    }
   ],
   "source": [
    "n=int(input())\n",
    "lst=[]\n",
    "for i in range(n):\n",
    "    c=input().split()\n",
    "    a=c[0] \n",
    "    if a=='push':\n",
    "        lst.append(c[1])\n",
    "    elif a=='pop':\n",
    "        if len(lst)==0:\n",
    "            print(-1)\n",
    "        else:\n",
    "            print(lst.pop())\n",
    "    elif a=='size':\n",
    "        print(len(lst))\n",
    "    elif a=='empty':\n",
    "        if len(lst)==0:\n",
    "            print(1)\n",
    "        else:\n",
    "            print(0)\n",
    "    elif a=='front':\n",
    "        if len(lst)==0:\n",
    "            print(-1)\n",
    "        else:\n",
    "            print(lst[-1])\n",
    "    elif a=='back':\n",
    "        if len(lst)==0:\n",
    "            print(-1)\n",
    "        else:\n",
    "            print(lst[0])"
   ]
  },
  {
   "cell_type": "code",
   "execution_count": 3,
   "metadata": {},
   "outputs": [
    {
     "ename": "TypeError",
     "evalue": "'int' object is not iterable",
     "output_type": "error",
     "traceback": [
      "\u001b[1;31m---------------------------------------------------------------------------\u001b[0m",
      "\u001b[1;31mTypeError\u001b[0m                                 Traceback (most recent call last)",
      "\u001b[1;32mc:\\coding\\C++study\\helloworld.ipynb 셀 63\u001b[0m in \u001b[0;36m<cell line: 7>\u001b[1;34m()\u001b[0m\n\u001b[0;32m      <a href='vscode-notebook-cell:/c%3A/coding/C%2B%2Bstudy/helloworld.ipynb#Y116sZmlsZQ%3D%3D?line=5'>6</a>\u001b[0m b\u001b[39m=\u001b[39m\u001b[39mlist\u001b[39m(\u001b[39mmap\u001b[39m(\u001b[39mint\u001b[39m,\u001b[39minput\u001b[39m()\u001b[39m.\u001b[39msplit()))\n\u001b[0;32m      <a href='vscode-notebook-cell:/c%3A/coding/C%2B%2Bstudy/helloworld.ipynb#Y116sZmlsZQ%3D%3D?line=6'>7</a>\u001b[0m \u001b[39mfor\u001b[39;00m i \u001b[39min\u001b[39;00m b:\n\u001b[1;32m----> <a href='vscode-notebook-cell:/c%3A/coding/C%2B%2Bstudy/helloworld.ipynb#Y116sZmlsZQ%3D%3D?line=7'>8</a>\u001b[0m     \u001b[39mfor\u001b[39;00m j \u001b[39min\u001b[39;00m \u001b[39mlen\u001b[39m(a):\n\u001b[0;32m      <a href='vscode-notebook-cell:/c%3A/coding/C%2B%2Bstudy/helloworld.ipynb#Y116sZmlsZQ%3D%3D?line=8'>9</a>\u001b[0m         \u001b[39mif\u001b[39;00m i\u001b[39m==\u001b[39ma[j]:\n\u001b[0;32m     <a href='vscode-notebook-cell:/c%3A/coding/C%2B%2Bstudy/helloworld.ipynb#Y116sZmlsZQ%3D%3D?line=9'>10</a>\u001b[0m             cnt\u001b[39m+\u001b[39m\u001b[39m=\u001b[39m\u001b[39m1\u001b[39m\n",
      "\u001b[1;31mTypeError\u001b[0m: 'int' object is not iterable"
     ]
    }
   ],
   "source": [
    "n=int(input())\n",
    "cnt=0\n",
    "lst=[]\n",
    "a=list(map(int,input().split()))\n",
    "m=int(input())\n",
    "b=list(map(int,input().split()))\n",
    "for i in b:\n",
    "    for j in len(a):\n",
    "        if i==a[j]:\n",
    "            cnt+=1\n",
    "        lst.append(cnt)\n",
    "print(lst)"
   ]
  },
  {
   "cell_type": "code",
   "execution_count": 2,
   "metadata": {},
   "outputs": [
    {
     "name": "stdout",
     "output_type": "stream",
     "text": [
      "[10, 9, -5, 2, 3, 4, 5, -10]\n"
     ]
    }
   ],
   "source": [
    "print(b)"
   ]
  },
  {
   "cell_type": "code",
   "execution_count": 1,
   "metadata": {},
   "outputs": [
    {
     "ename": "ValueError",
     "evalue": "not enough values to unpack (expected 2, got 0)",
     "output_type": "error",
     "traceback": [
      "\u001b[1;31m---------------------------------------------------------------------------\u001b[0m",
      "\u001b[1;31mValueError\u001b[0m                                Traceback (most recent call last)",
      "\u001b[1;32mc:\\coding\\C++study\\helloworld.ipynb 셀 65\u001b[0m in \u001b[0;36m<cell line: 1>\u001b[1;34m()\u001b[0m\n\u001b[1;32m----> <a href='vscode-notebook-cell:/c%3A/coding/C%2B%2Bstudy/helloworld.ipynb#Y121sZmlsZQ%3D%3D?line=0'>1</a>\u001b[0m n,m\u001b[39m=\u001b[39m\u001b[39mmap\u001b[39m(\u001b[39mint\u001b[39m,\u001b[39minput\u001b[39m()\u001b[39m.\u001b[39msplit())\n\u001b[0;32m      <a href='vscode-notebook-cell:/c%3A/coding/C%2B%2Bstudy/helloworld.ipynb#Y121sZmlsZQ%3D%3D?line=1'>2</a>\u001b[0m cnt\u001b[39m=\u001b[39m[]\n\u001b[0;32m      <a href='vscode-notebook-cell:/c%3A/coding/C%2B%2Bstudy/helloworld.ipynb#Y121sZmlsZQ%3D%3D?line=2'>3</a>\u001b[0m board\u001b[39m=\u001b[39m\u001b[39mlist\u001b[39m()\n",
      "\u001b[1;31mValueError\u001b[0m: not enough values to unpack (expected 2, got 0)"
     ]
    }
   ],
   "source": [
    "n,m=map(int,input().split())\n",
    "board=list()\n",
    "for i in range(n):\n",
    "    board.append(input())\n",
    "repair=list()\n",
    "for i in range (n-7):\n",
    "    for j in range(m-7):\n",
    "        first_w=0\n",
    "        first_b=0\n",
    "        for k in range(i,i+8):\n",
    "            for l in range(j,j+8):\n",
    "                if (k+l)%2==0:\n",
    "                    if board[k][l]!='W':\n",
    "                        first_w=first_w+1\n",
    "                    if board[k][l]!='B':\n",
    "                        first_b=first_b+1\n",
    "                else:\n",
    "                    if board[k][l]!='B':\n",
    "                        first_w=first_w+1\n",
    "                    if board[k][l]!='w':\n",
    "                        first_b=first_b+1\n",
    "        repair.append(first_b)\n",
    "        repair.append(first_w)\n",
    "print(min(repair))"
   ]
  },
  {
   "cell_type": "code",
   "execution_count": null,
   "metadata": {},
   "outputs": [],
   "source": [
    "from collections import Counter\n",
    "from sys import stdin\n",
    "n = stdin.readline().rstrip()\n",
    "lst = list(map(int,stdin.readline().split()))\n",
    "m = stdin.readline().rstrip()\n",
    "lst2=list(map(int,stdin.readline().split()))\n",
    "count=Counter(lst)\n",
    "for i in range(len(lst2)):\n",
    "    if lst2[i] in count:\n",
    "        print(count[lst2[i]],end=' ')\n",
    "    else:\n",
    "        print(0,end=' ')\n"
   ]
  },
  {
   "cell_type": "code",
   "execution_count": 5,
   "metadata": {},
   "outputs": [
    {
     "name": "stdout",
     "output_type": "stream",
     "text": [
      "-1\n"
     ]
    }
   ],
   "source": [
    "n=int(input())\n",
    "a=n//5\n",
    "b=n%5\n",
    "if b==3:\n",
    "    print(a+1)\n",
    "elif b==0:\n",
    "    print(a)\n",
    "else:\n",
    "    c=n//3\n",
    "    d=n%3\n",
    "    if c>0:\n",
    "        if d==0:\n",
    "            print(c)\n",
    "        else:\n",
    "            print(-1)\n",
    "\n"
   ]
  },
  {
   "cell_type": "code",
   "execution_count": null,
   "metadata": {},
   "outputs": [],
   "source": [
    "while True:\n",
    "    a=input()\n",
    "\n",
    "    if a=='.':\n",
    "        break\n",
    "    \n"
   ]
  },
  {
   "cell_type": "code",
   "execution_count": 6,
   "metadata": {},
   "outputs": [
    {
     "name": "stdout",
     "output_type": "stream",
     "text": [
      "d\n",
      "l\n",
      "s\n",
      "d\n",
      "l\n"
     ]
    }
   ],
   "source": [
    "a='dlsdl'\n",
    "for i in a:\n",
    "    print(i)"
   ]
  },
  {
   "cell_type": "code",
   "execution_count": 8,
   "metadata": {},
   "outputs": [],
   "source": [
    "sss=[2]\n",
    "if not sss:\n",
    "    print(00)"
   ]
  },
  {
   "cell_type": "code",
   "execution_count": 18,
   "metadata": {},
   "outputs": [
    {
     "ename": "IndexError",
     "evalue": "list index out of range",
     "output_type": "error",
     "traceback": [
      "\u001b[1;31m---------------------------------------------------------------------------\u001b[0m",
      "\u001b[1;31mIndexError\u001b[0m                                Traceback (most recent call last)",
      "\u001b[1;32mc:\\coding\\C++study\\helloworld.ipynb 셀 71\u001b[0m in \u001b[0;36m<cell line: 5>\u001b[1;34m()\u001b[0m\n\u001b[0;32m      <a href='vscode-notebook-cell:/c%3A/coding/C%2B%2Bstudy/helloworld.ipynb#Y130sZmlsZQ%3D%3D?line=3'>4</a>\u001b[0m     lst\u001b[39m.\u001b[39mappend(\u001b[39mint\u001b[39m(\u001b[39minput\u001b[39m()))\n\u001b[0;32m      <a href='vscode-notebook-cell:/c%3A/coding/C%2B%2Bstudy/helloworld.ipynb#Y130sZmlsZQ%3D%3D?line=4'>5</a>\u001b[0m \u001b[39mfor\u001b[39;00m i \u001b[39min\u001b[39;00m \u001b[39mrange\u001b[39m(\u001b[39mlen\u001b[39m(lst)):\n\u001b[1;32m----> <a href='vscode-notebook-cell:/c%3A/coding/C%2B%2Bstudy/helloworld.ipynb#Y130sZmlsZQ%3D%3D?line=5'>6</a>\u001b[0m     \u001b[39mif\u001b[39;00m lst[i]\u001b[39m==\u001b[39m\u001b[39m0\u001b[39m:\n\u001b[0;32m      <a href='vscode-notebook-cell:/c%3A/coding/C%2B%2Bstudy/helloworld.ipynb#Y130sZmlsZQ%3D%3D?line=6'>7</a>\u001b[0m         \u001b[39mdel\u001b[39;00m lst[i\u001b[39m-\u001b[39m\u001b[39m1\u001b[39m]\n\u001b[0;32m      <a href='vscode-notebook-cell:/c%3A/coding/C%2B%2Bstudy/helloworld.ipynb#Y130sZmlsZQ%3D%3D?line=7'>8</a>\u001b[0m \u001b[39mprint\u001b[39m(\u001b[39msum\u001b[39m(lst))\n",
      "\u001b[1;31mIndexError\u001b[0m: list index out of range"
     ]
    }
   ],
   "source": [
    "n=int(input())\n",
    "lst=[]\n",
    "for i in range(n):\n",
    "    lst.append(int(input()))\n",
    "for i in range(len(lst)):\n",
    "    if lst[i]==0:\n",
    "        del lst[i-1]\n",
    "print(sum(lst))\n"
   ]
  },
  {
   "cell_type": "code",
   "execution_count": 12,
   "metadata": {},
   "outputs": [
    {
     "name": "stdout",
     "output_type": "stream",
     "text": [
      "7\n"
     ]
    }
   ],
   "source": [
    "n=int(input())\n",
    "lst=[]\n",
    "for i in range(n):\n",
    "    num=int(input())\n",
    "    if num==0:\n",
    "        lst.pop()\n",
    "    else:\n",
    "        lst.append(num)\n",
    "print(sum(lst))"
   ]
  },
  {
   "cell_type": "code",
   "execution_count": 21,
   "metadata": {},
   "outputs": [
    {
     "ename": "IndexError",
     "evalue": "list index out of range",
     "output_type": "error",
     "traceback": [
      "\u001b[1;31m---------------------------------------------------------------------------\u001b[0m",
      "\u001b[1;31mIndexError\u001b[0m                                Traceback (most recent call last)",
      "\u001b[1;32mc:\\coding\\C++study\\helloworld.ipynb 셀 73\u001b[0m in \u001b[0;36m<cell line: 6>\u001b[1;34m()\u001b[0m\n\u001b[0;32m      <a href='vscode-notebook-cell:/c%3A/coding/C%2B%2Bstudy/helloworld.ipynb#Y132sZmlsZQ%3D%3D?line=4'>5</a>\u001b[0m     lst\u001b[39m.\u001b[39mappend(a)\n\u001b[0;32m      <a href='vscode-notebook-cell:/c%3A/coding/C%2B%2Bstudy/helloworld.ipynb#Y132sZmlsZQ%3D%3D?line=5'>6</a>\u001b[0m \u001b[39mfor\u001b[39;00m i \u001b[39min\u001b[39;00m \u001b[39mrange\u001b[39m(\u001b[39mlen\u001b[39m(lst)):\n\u001b[1;32m----> <a href='vscode-notebook-cell:/c%3A/coding/C%2B%2Bstudy/helloworld.ipynb#Y132sZmlsZQ%3D%3D?line=6'>7</a>\u001b[0m     \u001b[39mif\u001b[39;00m lst[i]\u001b[39m==\u001b[39m\u001b[39m0\u001b[39m:\n\u001b[0;32m      <a href='vscode-notebook-cell:/c%3A/coding/C%2B%2Bstudy/helloworld.ipynb#Y132sZmlsZQ%3D%3D?line=7'>8</a>\u001b[0m         \u001b[39mdel\u001b[39;00m lst[i\u001b[39m-\u001b[39m\u001b[39m1\u001b[39m]\n\u001b[0;32m      <a href='vscode-notebook-cell:/c%3A/coding/C%2B%2Bstudy/helloworld.ipynb#Y132sZmlsZQ%3D%3D?line=8'>9</a>\u001b[0m \u001b[39mprint\u001b[39m(\u001b[39msum\u001b[39m(lst))\n",
      "\u001b[1;31mIndexError\u001b[0m: list index out of range"
     ]
    }
   ],
   "source": [
    "n=int(input())\n",
    "lst=[]\n",
    "for i in range(4):\n",
    "    a=int(input())\n",
    "    lst.append(a)\n",
    "for i in range(len(lst)):\n",
    "    if lst[i]==0:\n",
    "        del lst[i-1]\n",
    "print(sum(lst))\n"
   ]
  },
  {
   "cell_type": "code",
   "execution_count": 20,
   "metadata": {},
   "outputs": [
    {
     "name": "stdout",
     "output_type": "stream",
     "text": [
      "0\n",
      "1\n",
      "2\n"
     ]
    }
   ],
   "source": [
    "for i in range(3):\n",
    "    print(i)"
   ]
  },
  {
   "cell_type": "code",
   "execution_count": 9,
   "metadata": {},
   "outputs": [
    {
     "name": "stdout",
     "output_type": "stream",
     "text": [
      "3\n",
      "5\n",
      "7\n",
      "11\n",
      "13\n"
     ]
    }
   ],
   "source": [
    "m,n=map(int,input().split())\n",
    "\n",
    "for i in range(m,n+1): #3부터 16까지\n",
    "    for j in range(2,i): #2부터 2까지\n",
    "        if i % j == 0: #나머지 존재\n",
    "            j+=1\n",
    "            break\n",
    "    else:\n",
    "        print(i)\n",
    "          "
   ]
  },
  {
   "cell_type": "code",
   "execution_count": 11,
   "metadata": {},
   "outputs": [
    {
     "data": {
      "text/plain": [
       "3628800"
      ]
     },
     "execution_count": 11,
     "metadata": {},
     "output_type": "execute_result"
    }
   ],
   "source": [
    "10*9*7*8*6*5*4*3*2"
   ]
  },
  {
   "cell_type": "code",
   "execution_count": null,
   "metadata": {},
   "outputs": [],
   "source": [
    "from math import factorial\n",
    "n=int(input())\n",
    "cnt=0\n",
    "for i in str(factorial(n))[::-1]:\n",
    "    if i != '0':\n",
    "        break\n",
    "    cnt+=1\n",
    "print(cnt)"
   ]
  },
  {
   "cell_type": "code",
   "execution_count": null,
   "metadata": {},
   "outputs": [],
   "source": [
    "n=input()\n",
    "S=set()\n",
    "for i in range(n):\n",
    "    temp=input().split()\n",
    "    if temp[0]=='add':\n",
    "        S.add(temp[1])\n",
    "    elif temp[0]=='remove':\n",
    "        S.discard(temp[1])\n",
    "    elif temp[0]=='check':\n",
    "        if temp[1] in S:\n",
    "            print(1)\n",
    "        else:\n",
    "            print(0)\n",
    "    elif temp[0]=='all':\n",
    "        S=set([i for i in range(1,21)])\n",
    "    elif temp[0]=='empty':\n",
    "        S=set()\n",
    "    elif temp[0]=='toggle':\n",
    "        if temp[1] in S:\n",
    "            S.discard(temp[1])\n",
    "        else:\n",
    "            S.add(temp[1])\n",
    "\n",
    "\n"
   ]
  },
  {
   "cell_type": "code",
   "execution_count": 13,
   "metadata": {},
   "outputs": [
    {
     "name": "stdout",
     "output_type": "stream",
     "text": [
      "['dd']\n"
     ]
    }
   ],
   "source": [
    "ee=input().split()\n",
    "print(ee)"
   ]
  },
  {
   "cell_type": "code",
   "execution_count": 14,
   "metadata": {},
   "outputs": [
    {
     "ename": "ValueError",
     "evalue": "invalid literal for int() with base 10: ''",
     "output_type": "error",
     "traceback": [
      "\u001b[1;31m---------------------------------------------------------------------------\u001b[0m",
      "\u001b[1;31mValueError\u001b[0m                                Traceback (most recent call last)",
      "\u001b[1;32mc:\\coding\\C++study\\helloworld.ipynb 셀 80\u001b[0m in \u001b[0;36m<cell line: 1>\u001b[1;34m()\u001b[0m\n\u001b[1;32m----> <a href='vscode-notebook-cell:/c%3A/coding/C%2B%2Bstudy/helloworld.ipynb#Y142sZmlsZQ%3D%3D?line=0'>1</a>\u001b[0m n\u001b[39m=\u001b[39m\u001b[39mint\u001b[39;49m(\u001b[39minput\u001b[39;49m())\n\u001b[0;32m      <a href='vscode-notebook-cell:/c%3A/coding/C%2B%2Bstudy/helloworld.ipynb#Y142sZmlsZQ%3D%3D?line=1'>2</a>\u001b[0m m\u001b[39m=\u001b[39m\u001b[39mint\u001b[39m(\u001b[39minput\u001b[39m())\n\u001b[0;32m      <a href='vscode-notebook-cell:/c%3A/coding/C%2B%2Bstudy/helloworld.ipynb#Y142sZmlsZQ%3D%3D?line=2'>3</a>\u001b[0m \u001b[39mif\u001b[39;00m m:\n",
      "\u001b[1;31mValueError\u001b[0m: invalid literal for int() with base 10: ''"
     ]
    }
   ],
   "source": [
    "n=int(input())\n",
    "m=int(input())\n",
    "if m:\n",
    "    err=set(map(int,input().split()))\n",
    "else:\n",
    "    err=set()\n",
    "for num in range(1000001):\n",
    "    for i in str(num):\n",
    "        if i in err:\n",
    "            break\n",
    "    else:\n",
    "        ans=min(ans,len(str(num))+abs(num-n))\n",
    "print(ans)"
   ]
  },
  {
   "cell_type": "code",
   "execution_count": 6,
   "metadata": {},
   "outputs": [
    {
     "name": "stdout",
     "output_type": "stream",
     "text": [
      "6\n"
     ]
    }
   ],
   "source": [
    "n,k=map(int,input().split())\n",
    "lst=[]\n",
    "cnt=0\n",
    "for i in range(n):\n",
    "    lst.append(int(input()))\n",
    "    \n",
    "for i in lst[::-1]:\n",
    "    cnt+=k//i\n",
    "    k=k%i\n",
    "print(cnt)\n",
    "        \n"
   ]
  },
  {
   "cell_type": "code",
   "execution_count": 3,
   "metadata": {},
   "outputs": [
    {
     "name": "stdout",
     "output_type": "stream",
     "text": [
      "[3, 2, 1]\n"
     ]
    }
   ],
   "source": [
    "lstt=[1,2,3]\n",
    "print(lstt[::-1])"
   ]
  },
  {
   "cell_type": "code",
   "execution_count": null,
   "metadata": {},
   "outputs": [],
   "source": [
    "import sys\n",
    "n,m=map(int,input().split())\n",
    "site=dict()\n",
    "for i in range(n):\n",
    "    id,pw=map(str,sys.stdin.readline().split())\n",
    "    site[id]=pw\n",
    "for _ in range(m):\n",
    "    address=str(sys.stdin.readline().rstrip())\n",
    "    print(site[address])"
   ]
  },
  {
   "cell_type": "code",
   "execution_count": null,
   "metadata": {},
   "outputs": [],
   "source": [
    "import sys\n",
    "n,m=map(int,sys.stdin.readline().split())\n",
    "dict={}\n",
    "for i in range(1,n+1):\n",
    "    a=sys.stdin.readline().rstrip()\n",
    "    dict[i]=a\n",
    "    dict[a]=i\n",
    "for i in range(m):\n",
    "    quest = sys.stdin.readline().rstrip()\n",
    "    if quest.isdigit():\n",
    "        print(dict[int(quest)])\n",
    "    else:\n",
    "        print(dict[quest])"
   ]
  },
  {
   "cell_type": "code",
   "execution_count": 7,
   "metadata": {},
   "outputs": [
    {
     "ename": "SyntaxError",
     "evalue": "expected ':' (530795849.py, line 2)",
     "output_type": "error",
     "traceback": [
      "\u001b[1;36m  Input \u001b[1;32mIn [7]\u001b[1;36m\u001b[0m\n\u001b[1;33m    for path in sys.path\u001b[0m\n\u001b[1;37m                        ^\u001b[0m\n\u001b[1;31mSyntaxError\u001b[0m\u001b[1;31m:\u001b[0m expected ':'\n"
     ]
    }
   ],
   "source": [
    "import sys\n",
    "for path in sys.path\n",
    "print(path)"
   ]
  },
  {
   "cell_type": "code",
   "execution_count": 8,
   "metadata": {},
   "outputs": [
    {
     "name": "stdout",
     "output_type": "stream",
     "text": [
      "15\n"
     ]
    }
   ],
   "source": [
    "n=int(input())\n",
    "lst=list(map(int,input().split()))\n",
    "lst.sort()\n",
    "ans=0\n",
    "for i in range(1,n+1):\n",
    "    ans+=sum(lst[0:i])\n",
    "print(ans)"
   ]
  },
  {
   "cell_type": "code",
   "execution_count": null,
   "metadata": {},
   "outputs": [],
   "source": [
    "n,m=map(int,input().split())\n",
    "people=list()\n",
    "people2=[]\n",
    "ans=[]\n",
    "num=0\n",
    "\n",
    "for i in range(n):\n",
    "    people.append(input())\n",
    "for j in range(m):\n",
    "    people2.append(input())\n",
    "for i in people:\n",
    "    if i in people2:\n",
    "        num+=1\n",
    "        ans.append(i)\n",
    "print(num)\n",
    "for i in ans:\n",
    "    print(i)"
   ]
  },
  {
   "cell_type": "code",
   "execution_count": null,
   "metadata": {},
   "outputs": [],
   "source": [
    "n=int(input())\n",
    "\n",
    "for i in range(n):\n",
    "    m=int(input())\n",
    "    wear={}\n",
    "    for j in range(m):\n",
    "        v,k=input().split()\n",
    "        if wear.get(k)==None:\n",
    "            wear[k]=set()\n",
    "        wear[k].add(v)\n",
    "count = 1\n",
    "for key in wear.keys():\n",
    "    count*=len(wear[key])+1\n",
    "print(count-1)"
   ]
  },
  {
   "cell_type": "code",
   "execution_count": 5,
   "metadata": {},
   "outputs": [
    {
     "name": "stdout",
     "output_type": "stream",
     "text": [
      "None\n"
     ]
    }
   ],
   "source": [
    "grade = {'pey': 10, 'julliet': 99}\n",
    "grade.get('pey')\n",
    "print(grade.get(4))"
   ]
  },
  {
   "cell_type": "code",
   "execution_count": 7,
   "metadata": {},
   "outputs": [
    {
     "ename": "TypeError",
     "evalue": "'int' object is not iterable",
     "output_type": "error",
     "traceback": [
      "\u001b[1;31m---------------------------------------------------------------------------\u001b[0m",
      "\u001b[1;31mTypeError\u001b[0m                                 Traceback (most recent call last)",
      "\u001b[1;32mc:\\coding\\C++study\\helloworld.ipynb 셀 90\u001b[0m in \u001b[0;36m<cell line: 3>\u001b[1;34m()\u001b[0m\n\u001b[0;32m      <a href='vscode-notebook-cell:/c%3A/coding/C%2B%2Bstudy/helloworld.ipynb#Y155sZmlsZQ%3D%3D?line=4'>5</a>\u001b[0m     ans\u001b[39m+\u001b[39m\u001b[39m=\u001b[39m\u001b[39m1\u001b[39m\n\u001b[0;32m      <a href='vscode-notebook-cell:/c%3A/coding/C%2B%2Bstudy/helloworld.ipynb#Y155sZmlsZQ%3D%3D?line=6'>7</a>\u001b[0m \u001b[39melse\u001b[39;00m: \n\u001b[1;32m----> <a href='vscode-notebook-cell:/c%3A/coding/C%2B%2Bstudy/helloworld.ipynb#Y155sZmlsZQ%3D%3D?line=7'>8</a>\u001b[0m     a\u001b[39m=\u001b[39m\u001b[39mlist\u001b[39;49m(i)\n\u001b[0;32m      <a href='vscode-notebook-cell:/c%3A/coding/C%2B%2Bstudy/helloworld.ipynb#Y155sZmlsZQ%3D%3D?line=8'>9</a>\u001b[0m     \u001b[39mif\u001b[39;00m a[\u001b[39m0\u001b[39m]\u001b[39m+\u001b[39ma[\u001b[39m2\u001b[39m]\u001b[39m==\u001b[39m\u001b[39m2\u001b[39m\u001b[39m*\u001b[39ma[\u001b[39m1\u001b[39m]:\n\u001b[0;32m     <a href='vscode-notebook-cell:/c%3A/coding/C%2B%2Bstudy/helloworld.ipynb#Y155sZmlsZQ%3D%3D?line=9'>10</a>\u001b[0m         ans\u001b[39m+\u001b[39m\u001b[39m=\u001b[39m\u001b[39m1\u001b[39m\n",
      "\u001b[1;31mTypeError\u001b[0m: 'int' object is not iterable"
     ]
    }
   ],
   "source": [
    "n=int(input())\n",
    "ans=0\n",
    "for i in range(1,n+1):\n",
    "    a=list(map(int,str(i)))\n",
    "    if i<100:\n",
    "        ans+=1\n",
    "\n",
    "    else: \n",
    "        \n",
    "        if a[0]+a[2]==2*a[1]:\n",
    "            ans+=1\n",
    "print(ans)\n"
   ]
  },
  {
   "cell_type": "code",
   "execution_count": 10,
   "metadata": {},
   "outputs": [
    {
     "name": "stdout",
     "output_type": "stream",
     "text": [
      "['111']\n"
     ]
    }
   ],
   "source": [
    "a=str(111)\n",
    "\n",
    "b=a.split()\n",
    "print(b)"
   ]
  },
  {
   "cell_type": "code",
   "execution_count": 11,
   "metadata": {},
   "outputs": [
    {
     "name": "stdout",
     "output_type": "stream",
     "text": [
      "[1, 2, 3]\n"
     ]
    }
   ],
   "source": [
    "i=123\n",
    "a=list(map(int,str(i)))\n",
    "print(a)\n"
   ]
  },
  {
   "cell_type": "code",
   "execution_count": 1,
   "metadata": {},
   "outputs": [
    {
     "ename": "TypeError",
     "evalue": "'int' object is not callable",
     "output_type": "error",
     "traceback": [
      "\u001b[1;31m---------------------------------------------------------------------------\u001b[0m",
      "\u001b[1;31mTypeError\u001b[0m                                 Traceback (most recent call last)",
      "\u001b[1;32mc:\\coding\\C++study\\helloworld.ipynb 셀 93\u001b[0m in \u001b[0;36m<cell line: 6>\u001b[1;34m()\u001b[0m\n\u001b[0;32m      <a href='vscode-notebook-cell:/c%3A/coding/C%2B%2Bstudy/helloworld.ipynb#Y161sZmlsZQ%3D%3D?line=3'>4</a>\u001b[0m left, right \u001b[39m=\u001b[39m \u001b[39m0\u001b[39m,\u001b[39m1\u001b[39m\n\u001b[0;32m      <a href='vscode-notebook-cell:/c%3A/coding/C%2B%2Bstudy/helloworld.ipynb#Y161sZmlsZQ%3D%3D?line=5'>6</a>\u001b[0m \u001b[39mwhile\u001b[39;00m right\u001b[39m<\u001b[39m\u001b[39m=\u001b[39mn \u001b[39mand\u001b[39;00m left\u001b[39m<\u001b[39m\u001b[39m=\u001b[39mright:\n\u001b[1;32m----> <a href='vscode-notebook-cell:/c%3A/coding/C%2B%2Bstudy/helloworld.ipynb#Y161sZmlsZQ%3D%3D?line=6'>7</a>\u001b[0m     \u001b[39msum\u001b[39m\u001b[39m=\u001b[39m\u001b[39msum\u001b[39;49m(lst[left:right])\n\u001b[0;32m      <a href='vscode-notebook-cell:/c%3A/coding/C%2B%2Bstudy/helloworld.ipynb#Y161sZmlsZQ%3D%3D?line=8'>9</a>\u001b[0m     \u001b[39mif\u001b[39;00m \u001b[39msum\u001b[39m\u001b[39m==\u001b[39mm:\n\u001b[0;32m     <a href='vscode-notebook-cell:/c%3A/coding/C%2B%2Bstudy/helloworld.ipynb#Y161sZmlsZQ%3D%3D?line=9'>10</a>\u001b[0m         ans\u001b[39m+\u001b[39m\u001b[39m=\u001b[39m\u001b[39m1\u001b[39m\n",
      "\u001b[1;31mTypeError\u001b[0m: 'int' object is not callable"
     ]
    }
   ],
   "source": [
    "n,m=map(int,input().split())\n",
    "lst=list(map(int,input().split()))\n",
    "ans=0\n",
    "left, right = 0,1\n",
    "\n",
    "while right<=n and left<=right:\n",
    "    sum=sum(lst[left:right])   #한번에 불가   sum1=lst[left:right]   sum2=sum(sum1)로 두번에 걸쳐 해야됨\n",
    "\n",
    "    if sum==m:\n",
    "        ans+=1\n",
    "        right+=1\n",
    "        left+=1\n",
    "    elif sum<m:\n",
    "        right+=1\n",
    "    else:\n",
    "        left+=1\n",
    "\n",
    "print(ans)\n"
   ]
  },
  {
   "cell_type": "code",
   "execution_count": null,
   "metadata": {},
   "outputs": [],
   "source": []
  }
 ],
 "metadata": {
  "kernelspec": {
   "display_name": "Python 3",
   "language": "python",
   "name": "python3"
  },
  "language_info": {
   "codemirror_mode": {
    "name": "ipython",
    "version": 3
   },
   "file_extension": ".py",
   "mimetype": "text/x-python",
   "name": "python",
   "nbconvert_exporter": "python",
   "pygments_lexer": "ipython3",
   "version": "3.10.2"
  },
  "orig_nbformat": 4,
  "vscode": {
   "interpreter": {
    "hash": "ea53fd6db111e1bde25c7e760374bc7fdb25ea7d82b727491d5b8142a7adf6bc"
   }
  }
 },
 "nbformat": 4,
 "nbformat_minor": 2
}
